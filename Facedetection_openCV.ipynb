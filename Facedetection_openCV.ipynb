{
 "cells": [
  {
   "cell_type": "markdown",
   "id": "e83a8bc2-1db5-4b36-aac7-d115071548ed",
   "metadata": {},
   "source": [
    "\n",
    "\n",
    "### Real-Time Face, Eyes, and Smile Detection\n",
    "\n",
    "This project demonstrates how to use OpenCV, a powerful computer vision library, to perform real-time detection of faces, eyes, and smiles via a webcam. The detection results are visualized by drawing rectangles around the detected features directly on the video feed.\n",
    "\n",
    "#### Key Features:\n",
    "\n",
    "- **Real-Time Detection:** Utilizes the webcam to detect and display faces, eyes, and smiles in real time.\n",
    "- **Haar Cascade Classifiers:** Leverages pre-trained Haar Cascade classifiers for accurate detection of facial features.\n",
    "  - `haarcascade_frontalface_default.xml`: Detects faces.\n",
    "  - `haarcascade_eye.xml`: Detects eyes within detected faces.\n",
    "  - `haarcascade_smile.xml`: Detects smiles within detected faces.\n",
    "- **Visualization:** Draws colored rectangles around detected features:\n",
    "  - Blue rectangles for faces.\n",
    "  - Green rectangles for eyes.\n",
    "  - Red rectangles for smiles.\n",
    "\n",
    "#### How It Works:\n",
    "\n",
    "1. **Initialization:**\n",
    "   - Load the pre-trained Haar Cascade classifiers for faces, eyes, and smiles.\n",
    "\n",
    "2. **Detection Function:**\n",
    "   - Receives gray scale frame and orignal frame.\n",
    "   - Detect faces in the grayscale image.\n",
    "   - For each detected face, detect eyes and smiles within the face region.\n",
    "   - Draw rectangles around the detected features on the original colored frame.\n",
    "   - Returns frame \n",
    "\n",
    "3. **Video Capture:**\n",
    "   - Continuously capture video frames from the webcam.\n",
    "   - Converts frame into gray scale .\n",
    "   - Applies detection function to each frame.\n",
    "   - Displays the processed frames in a window.\n",
    "     \n",
    "\n",
    "This project provides a practical example of using OpenCV for real-time object detection and visualization, showcasing the power and simplicity of using pre-trained classifiers for various computer vision tasks."
   ]
  },
  {
   "cell_type": "code",
   "execution_count": 80,
   "id": "52941ec7-7a47-43fa-8266-9e5c23bba760",
   "metadata": {},
   "outputs": [],
   "source": [
    "import cv2 # Import the OpenCV library"
   ]
  },
  {
   "cell_type": "code",
   "execution_count": 81,
   "id": "12ed7a01-dfa1-4581-9bc1-b9ad9fc07cee",
   "metadata": {},
   "outputs": [],
   "source": [
    "# Load pre-trained classifiers for face, eyes, and smile detection\n",
    "frontalFace_cascade = cv2.CascadeClassifier(\"cascadeFiles/haarcascade_frontalface_default.xml\")\n",
    "eyes_cascade = cv2.CascadeClassifier(\"cascadeFiles/haarcascade_eye.xml\")\n",
    "smile_cascade = cv2.CascadeClassifier(\"cascadeFiles/haarcascade_smile.xml\")"
   ]
  },
  {
   "cell_type": "code",
   "execution_count": 82,
   "id": "ce19afc5-87e3-4afc-9f0f-816c66522866",
   "metadata": {},
   "outputs": [],
   "source": [
    "def detection(gray , frame):\n",
    "    \"\"\"\n",
    "    Detect faces, eyes, and smiles in the given grayscale image and draw rectangles around them in the original frame.\n",
    "\n",
    "    Args:\n",
    "        gray (numpy.ndarray): Grayscale image for detection.\n",
    "        frame (numpy.ndarray): Original colored image for drawing rectangles.\n",
    "\n",
    "    Returns:\n",
    "        numpy.ndarray: The frame with rectangles drawn around detected features.\n",
    "    \"\"\"\n",
    "    # Detect faces in the grayscale image\n",
    "    faces = frontalFace_cascade.detectMultiScale(gray , 1.3 ,4)\n",
    "    for (x,y,w,h) in faces :\n",
    "        # Draw a blue rectangle around the face\n",
    "        cv2.rectangle(frame , (x,y),(x+w , y+h),(255,0,0),3)\n",
    "\n",
    "        # Get the region of interest for face to detect eyes and smile within it\n",
    "        sub_window_gray = gray[y:y+h , x:x+w]\n",
    "        sub_window_frame = frame[y:y+h , x:x+w]\n",
    "        \n",
    "        # Detect eyes within the face region\n",
    "        eyes = eyes_cascade.detectMultiScale(sub_window_gray , 1.3 ,4)\n",
    "        for (ex,ey,ew,eh) in eyes :\n",
    "            # Draw a green rectangle around each eye\n",
    "            cv2.rectangle(sub_window_frame , (ex,ey),(ex+ew , ey+eh),(0,255,0),3)\n",
    "        # Detect smile within the face region        \n",
    "        smile = smile_cascade.detectMultiScale(sub_window_gray , 1.2 ,4)\n",
    "        for (sx,sy,sw,sh) in smile :\n",
    "            # Draw a red rectangle around the smile\n",
    "            cv2.rectangle(sub_window_frame , (sx,sy),(sx+sw , sy+sh),(0,0,255),3) \n",
    "    return frame \n",
    "    "
   ]
  },
  {
   "cell_type": "markdown",
   "id": "6c4b00a5-5189-4d59-8e7f-962839cb22e3",
   "metadata": {},
   "source": []
  },
  {
   "cell_type": "code",
   "execution_count": 83,
   "id": "831d6daf-3a1d-4612-a1b4-3d538e497947",
   "metadata": {},
   "outputs": [],
   "source": [
    "# Capture video from the default webcam replace 0 with 1 for any external cams\n",
    "cap = cv2.VideoCapture(0)\n",
    "while True :\n",
    "    # Read a frame from the webcam\n",
    "    _,frame = cap.read()\n",
    "    # Convert the frame to grayscale\n",
    "    gray = cv2.cvtColor(frame , cv2.COLOR_BGR2GRAY)\n",
    "    # Perform detection and get the output frame with rectangles\n",
    "    canvas = detection(gray ,frame)\n",
    "    # Display the output frame\n",
    "    cv2.imshow(\"video\" ,canvas)\n",
    "    # Exit the loop when 'q' is pressed\n",
    "    ''''\n",
    "    To release webcam by pressing q on keyboard \n",
    "    its important to first click inside \n",
    "    your cam windows and then click q .\n",
    "    Otherwise it will not work and loop will not break . \n",
    "    \n",
    "    '''\n",
    "    if cv2.waitKey(1) & 0xFF == ord (\"q\"):\n",
    "        break\n",
    "\n",
    "# Release the webcam and close all OpenCV windows\n",
    "cap.release()\n",
    "cv2.destroyAllWindows() "
   ]
  },
  {
   "cell_type": "code",
   "execution_count": null,
   "id": "69ee0efa-2e15-477d-b955-f6266c0cc133",
   "metadata": {},
   "outputs": [],
   "source": []
  }
 ],
 "metadata": {
  "kernelspec": {
   "display_name": "Python 3 (ipykernel)",
   "language": "python",
   "name": "python3"
  },
  "language_info": {
   "codemirror_mode": {
    "name": "ipython",
    "version": 3
   },
   "file_extension": ".py",
   "mimetype": "text/x-python",
   "name": "python",
   "nbconvert_exporter": "python",
   "pygments_lexer": "ipython3",
   "version": "3.10.14"
  }
 },
 "nbformat": 4,
 "nbformat_minor": 5
}
